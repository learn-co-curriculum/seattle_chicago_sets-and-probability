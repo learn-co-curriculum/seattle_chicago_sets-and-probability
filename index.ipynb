{
 "cells": [
  {
   "cell_type": "markdown",
   "metadata": {},
   "source": [
    "# Inferential Statistics\n",
    "In our mod 1 project, we began looking at datasets (i.e. movie info) and made various observations. We considered the data as if we were looking at a complete picture of the movie industries. We introduced a few descriptive statistics such as measures of central tendency and outliers.\n",
    "\n",
    "However, often in our work as data scientists, rarely will we have a dataset that encompases an entire population.  Instead, we will look at a sample of the population and make inferences about the greater population.  let's take a quick tour into inferential statistics. \n",
    "\n",
    "Consider these examples:\n",
    "\n",
    "- A zoologist wanting to know the typical lifespan of a Siberian tiger\n",
    "- A cosmologist wanting to know the mass of a normal white dwarf star\n",
    "- A businesswoman wanting to know how many M&M's her customers should expect to find in their Party Size bags\n",
    "- A botanist wanting to know how tall California redwoods usually grow\n",
    "\n",
    "The zoologist could, in principle:\n",
    "\n",
    "- keep track of every currently existing Siberian tiger;\n",
    "- record their (more or less) exact ages at their moments of death;\n",
    "- add up those ages and divide by the number of tigers to calculate an average lifespan\n",
    "\n",
    "––But only in principle. In all of these situations, there is no realistic or practical opportunity to check each relevant data point.\n",
    "\n",
    "What we can do, however, is to check some of the data points we want to check. That is, we'll draw a sample of data from our population of interest. We can then use the techniques of descriptive statistics to characterize our sample.\n",
    "\n",
    "Does this help? The hope, of course, is that our sample will be representative of the population as a whole, which would justify our using facts about the sample to infer things about the population as a whole. But naturally we'll expect a certain amount of error: If I take the mean of a sample, $\\bar{x}$ and project it as an estimate of the mean of the whole population, $\\mu$, the estimate is bound to be imperfect.\n",
    "\n",
    "Inferential statistics makes all this precise. \n",
    "\n",
    "This intro was adapted from Peter Norvig's pytude deck found [here]( https://github.com/gadamico/pytudes/blob/master/ipynb/Probability.ipynb). It is awesome. Check out the entire deck when you have a free moment."
   ]
  },
  {
   "cell_type": "markdown",
   "metadata": {},
   "source": [
    "To begin our weeklong journey into inferential statistics, we will begin with a brief visit to probability and a first stop at Set Theory."
   ]
  },
  {
   "cell_type": "markdown",
   "metadata": {},
   "source": [
    "## What is Set Theory?\n",
    "\n",
    "\"Set theory is the mathematical theory of well-determined collections, called sets, of objects that are called members, or elements, of the set.\" [$^1$](https://plato.stanford.edu/entries/set-theory/) \n",
    "\n",
    "\n",
    "### Why do we need to know what a set is?\n",
    "\n",
    "_Probability_ and _statistics_ are based on counting the elements in sets and manipulating set operations.  We have touched on [similar concepts](https://www.w3schools.com/sql/sql_join.asp)  to some set operations in SQL."
   ]
  },
  {
   "cell_type": "markdown",
   "metadata": {},
   "source": [
    "<img src=\"images/prob_symbols.png\" width=550>"
   ]
  },
  {
   "cell_type": "markdown",
   "metadata": {},
   "source": [
    "Visualization of [Set Theory](https://seeing-theory.brown.edu/compound-probability/index.html#section1)\n",
    "\n",
    "<img src='images/prob2-venn_b.png' width=550>"
   ]
  },
  {
   "cell_type": "code",
   "execution_count": 11,
   "metadata": {},
   "outputs": [
    {
     "name": "stdout",
     "output_type": "stream",
     "text": [
      "True\n",
      "True\n"
     ]
    }
   ],
   "source": [
    "S = set(range(1,20))\n",
    "\n",
    "\n",
    "# In python, we define a set with curly braces.\n",
    "# But unlike dictionaries, we don't use key value pairs.\n",
    "\n",
    "A = {'r','o','y','g','b','i','v'} # colors of the rainbow\n",
    "B = {'r','g','b'} # rgb base colors\n",
    "\n",
    "# We can then use the methods union and intersection, as well as the & and | operators.\n",
    "print(A.intersection(B) == A & B)\n",
    "\n",
    "print(A.union(B) == A | B)\n"
   ]
  },
  {
   "cell_type": "markdown",
   "metadata": {
    "slideshow": {
     "slide_type": "slide"
    }
   },
   "source": [
    "### *Activity:  We are trying to create buddies based on interest for a  trip. <br>\n",
    "Who should buddy with whom based on interests?\n",
    "\n",
    "This is another way to look at sets.<br>\n",
    "And we can still use the math!"
   ]
  },
  {
   "cell_type": "code",
   "execution_count": 13,
   "metadata": {
    "slideshow": {
     "slide_type": "fragment"
    }
   },
   "outputs": [],
   "source": [
    "pairs = {'Robin':{\"art\", \"traveling\", \"wine\", \"doodling\", \"tech\", \"gadgets\"},\n",
    "        'Andy': {\"rock-climbing\", \"traveling\", \"dad jokes\", \"ice cream\"},\n",
    "        'Alison':{\"wine\", \"traveling\", \"schitts creek\", \"dogs\"},\n",
    "        'Sue': {\"schitts creek\", \"dogs\" \"tarot card reading\", \"croquet\", \"taxonomy\"},\n",
    "        'Jim': {\"ice cream\", \"dogs\", \"zookeeping\", \"traveling\"},\n",
    "         'Al':{\"schitts creek\", \"tech\", \"dogs\"}\n",
    "        }"
   ]
  },
  {
   "cell_type": "code",
   "execution_count": 23,
   "metadata": {},
   "outputs": [
    {
     "name": "stdout",
     "output_type": "stream",
     "text": [
      "('Robin', 'Andy') {'traveling'}\n",
      "('Robin', 'Alison') {'traveling', 'wine'}\n",
      "('Robin', 'Sue') set()\n",
      "('Robin', 'Jim') {'traveling'}\n",
      "('Robin', 'Al') {'tech'}\n",
      "('Andy', 'Alison') {'traveling'}\n",
      "('Andy', 'Sue') set()\n",
      "('Andy', 'Jim') {'traveling', 'ice cream'}\n",
      "('Andy', 'Al') set()\n",
      "('Alison', 'Sue') {'schitts creek'}\n",
      "('Alison', 'Jim') {'traveling', 'dogs'}\n",
      "('Alison', 'Al') {'dogs', 'schitts creek'}\n",
      "('Sue', 'Jim') set()\n",
      "('Sue', 'Al') {'schitts creek'}\n",
      "('Jim', 'Al') {'dogs'}\n"
     ]
    }
   ],
   "source": [
    "from itertools import combinations\n",
    "combos = list(combinations(list(pairs.keys()), 2))\n",
    "for c in combos:\n",
    "    print(c, pairs[c[0]].intersection(pairs[c[1]]))"
   ]
  },
  {
   "cell_type": "markdown",
   "metadata": {
    "slideshow": {
     "slide_type": "slide"
    }
   },
   "source": [
    "**Task**:\n",
    "\n",
    "- Work in groups to code a program which will iterate through the pairs and find shared interests.  Use itertools combinations and the set operations built into python set objects.\n"
   ]
  },
  {
   "cell_type": "code",
   "execution_count": 21,
   "metadata": {},
   "outputs": [
    {
     "name": "stdout",
     "output_type": "stream",
     "text": [
      "('Robin', 'Andy')\n",
      "{'traveling'}\n",
      "('Robin', 'Alison')\n",
      "{'traveling', 'wine'}\n",
      "('Robin', 'Sue')\n",
      "set()\n",
      "('Robin', 'Jim')\n",
      "{'traveling'}\n",
      "('Robin', 'Al')\n",
      "{'tech'}\n",
      "('Andy', 'Alison')\n",
      "{'traveling'}\n",
      "('Andy', 'Sue')\n",
      "set()\n",
      "('Andy', 'Jim')\n",
      "{'traveling', 'ice cream'}\n",
      "('Andy', 'Al')\n",
      "set()\n",
      "('Alison', 'Sue')\n",
      "{'schitts creek'}\n",
      "('Alison', 'Jim')\n",
      "{'traveling', 'dogs'}\n",
      "('Alison', 'Al')\n",
      "{'dogs', 'schitts creek'}\n",
      "('Sue', 'Jim')\n",
      "set()\n",
      "('Sue', 'Al')\n",
      "{'schitts creek'}\n",
      "('Jim', 'Al')\n",
      "{'dogs'}\n"
     ]
    }
   ],
   "source": [
    "# Your answer here\n",
    "from itertools import combinations\n",
    "combos = list(combinations(list(pairs.keys()), 2))\n",
    "for c in combos:\n",
    "    print(c)\n",
    "    print(pairs[c[0]].intersection(pairs[c[1]]))"
   ]
  },
  {
   "cell_type": "markdown",
   "metadata": {},
   "source": [
    "## What is probability?\n",
    "\n",
    "Probability is the measure of the likelihood that an event will occur."
   ]
  },
  {
   "cell_type": "markdown",
   "metadata": {},
   "source": [
    "<img src='images/prob_scale.gif'>"
   ]
  },
  {
   "cell_type": "markdown",
   "metadata": {},
   "source": [
    "Probability is quantified as a number between 0 and 1, where 0 indicates impossibility and 1 indicates certainty.\n",
    "\n"
   ]
  },
  {
   "cell_type": "markdown",
   "metadata": {},
   "source": [
    "## Why probability is important?\n",
    "\n",
    "Uncertainty and randomness occur in many aspects of our daily life and having a good knowledge of probability helps us make sense of these uncertainties. Learning about probability helps us make informed judgments on what is likely to happen, based on a pattern of data collected previously or an estimate."
   ]
  },
  {
   "cell_type": "markdown",
   "metadata": {},
   "source": [
    "## How Probability is used in Data Science?\n",
    "\n",
    "Data science often uses statistical inferences to predict or analyze trends from data, and statistical inferences uses probability distributions of data. Hence knowing probability and its applications are important to work effectively on data science problems."
   ]
  },
  {
   "cell_type": "markdown",
   "metadata": {},
   "source": [
    "## Key Concepts and Symbols"
   ]
  },
  {
   "cell_type": "markdown",
   "metadata": {},
   "source": [
    "1. **Trial**: A single occurrence with an outcome that is uncertain until we observe it.\n",
    "- For example, rolling a single die.\n",
    "2. **Outcome**: A possible result of a trial.\n",
    "- For example: 4.\n",
    "3. **Sample Space**: The set of all possible outcomes for the trial.\n",
    "- For example, {1, 2, 3, 4, 5, 6}.\n",
    "4. **Event**: A subset of outcomes that together have some property we are interested in.\n",
    "- For example, the event \"even die roll\" is the set of outcomes {2, 4, 6}.[$^2$](https://github.com/gadamico/pytudes/blob/master/ipynb/Probability.ipynb)"
   ]
  },
  {
   "cell_type": "markdown",
   "metadata": {},
   "source": [
    "## Calculating Probability For Single Events\n"
   ]
  },
  {
   "cell_type": "markdown",
   "metadata": {},
   "source": [
    "To calculate this probability, you divide the number of possible event outcomes by the sample space."
   ]
  },
  {
   "cell_type": "markdown",
   "metadata": {},
   "source": [
    "$P(A) = \\frac{Event \\ outcomes \\ favorable \\ to \\ A}{Sample \\ space}$"
   ]
  },
  {
   "cell_type": "markdown",
   "metadata": {},
   "source": [
    "Let's look at some examples from a deck of cards. For each example, think about:\n",
    "1. What is the sample space?\n",
    "2. What is the event space?\n",
    "3. Divide possible outcomes by the sample set\n",
    "4. Print probability rounded to two decimal places"
   ]
  },
  {
   "cell_type": "code",
   "execution_count": 46,
   "metadata": {
    "scrolled": true
   },
   "outputs": [
    {
     "name": "stdout",
     "output_type": "stream",
     "text": [
      "<class 'list'>\n"
     ]
    },
    {
     "data": {
      "text/plain": [
       "['h2',\n",
       " 'h3',\n",
       " 'h4',\n",
       " 'h5',\n",
       " 'h6',\n",
       " 'h7',\n",
       " 'h8',\n",
       " 'h9',\n",
       " 'h10',\n",
       " 'hj',\n",
       " 'hq',\n",
       " 'hk',\n",
       " 'ha',\n",
       " 's2',\n",
       " 's3',\n",
       " 's4',\n",
       " 's5',\n",
       " 's6',\n",
       " 's7',\n",
       " 's8',\n",
       " 's9',\n",
       " 's10',\n",
       " 'sj',\n",
       " 'sq',\n",
       " 'sk',\n",
       " 'sa',\n",
       " 'd2',\n",
       " 'd3',\n",
       " 'd4',\n",
       " 'd5',\n",
       " 'd6',\n",
       " 'd7',\n",
       " 'd8',\n",
       " 'd9',\n",
       " 'd10',\n",
       " 'dj',\n",
       " 'dq',\n",
       " 'dk',\n",
       " 'da',\n",
       " 'c2',\n",
       " 'c3',\n",
       " 'c4',\n",
       " 'c5',\n",
       " 'c6',\n",
       " 'c7',\n",
       " 'c8',\n",
       " 'c9',\n",
       " 'c10',\n",
       " 'cj',\n",
       " 'cq',\n",
       " 'ck',\n",
       " 'ca']"
      ]
     },
     "execution_count": 46,
     "metadata": {},
     "output_type": "execute_result"
    }
   ],
   "source": [
    "numbers = list(range(2,11))\n",
    "numbers = [str(n) for n in numbers]\n",
    "print(type(numbers))\n",
    "face_cards = ['j','q','k','a']\n",
    "cards = numbers + face_cards\n",
    "\n",
    "suits = ['h','s','d','c']\n",
    "\n",
    "deck = []\n",
    "for suit in suits:\n",
    "    for n in cards:\n",
    "        deck.append(suit+n)\n",
    "deck"
   ]
  },
  {
   "cell_type": "code",
   "execution_count": 50,
   "metadata": {},
   "outputs": [
    {
     "name": "stdout",
     "output_type": "stream",
     "text": [
      "25.00%\n",
      "30.77%\n",
      "1.92%\n"
     ]
    }
   ],
   "source": [
    "# Create function that returns probability percent rounded to one decimal place\n",
    "def event_probability(event_outcomes, sample_space):\n",
    "    '''\n",
    "    paramters: \n",
    "    event_outcome = len of event outcomes\n",
    "    sample_space = len of the sample space elements\n",
    "    '''\n",
    "    probability = event_outcomes/sample_space\n",
    "    \n",
    "    return probability\n",
    "# Sample Space\n",
    "sample_space = 52\n",
    "\n",
    "# Determine the probability of drawing a heart\n",
    "event_space = 13\n",
    "heart_probability = event_probability(event_space, sample_space)\n",
    "# Determine the probability of drawing a face card\n",
    "event_space = 16\n",
    "face_card_probability = event_probability(event_space, sample_space)\n",
    "# Determine the probability of drawing the queen of hearts\n",
    "event_space = 1\n",
    "queen_of_hearts_probability = event_probability(event_space, sample_space)\n",
    "\n",
    "\n",
    "\n",
    "print(f\"{heart_probability:.2%}\")\n",
    "print(f\"{face_card_probability:.2%}\")\n",
    "print(f\"{queen_of_hearts_probability:.2%}\")"
   ]
  },
  {
   "cell_type": "markdown",
   "metadata": {},
   "source": [
    "![xkcd](images/increased_risk_2x.png)\n",
    "\n",
    "[xkcd comic 1252](https://xkcd.com/1252/)"
   ]
  },
  {
   "cell_type": "markdown",
   "metadata": {},
   "source": [
    "## Probability with Combinations and Permutations\n"
   ]
  },
  {
   "cell_type": "markdown",
   "metadata": {},
   "source": [
    "### Permutations\n",
    "Permutations are the number of ways a subset of a specified size can be arranged from a given set, generally **without replacement**. An example of this would be a 4 digit PIN with no repeated digits. The probability of having no repeated digits can be calculated by executing the following calculation:\n",
    "\n",
    "$10 \\times 9 \\times 8 \\times 7$\n",
    "\n"
   ]
  },
  {
   "cell_type": "markdown",
   "metadata": {},
   "source": [
    "When calculating the permutations, this means that you consider the full set of the numbers to choose from, which is in reality\n",
    "\n",
    "$10 \\times 9 \\times 8 \\times 7 \\times 6 \\times 5 \\times 4 \\times 3 \\times 2 \\times 1$"
   ]
  },
  {
   "cell_type": "markdown",
   "metadata": {},
   "source": [
    "and you divide the result of this calculation by the difference in the numbers to choose from (10) and the numbers that you actually choose (4). \n",
    "\n",
    "$6 \\times 5 \\times 4 \\times 3 \\times 2 \\times 1$"
   ]
  },
  {
   "cell_type": "markdown",
   "metadata": {},
   "source": [
    "Note that you can also write the above as\n",
    "\n",
    "$10P4 = \\frac{10!}{(10 - 4)!}$"
   ]
  },
  {
   "cell_type": "markdown",
   "metadata": {},
   "source": [
    "Generalizing the calculations above, this means that the formula to calculate permutations is the following:\n",
    "\n",
    "$nPk = \\frac{n!}{(n - k)!}$"
   ]
  },
  {
   "cell_type": "markdown",
   "metadata": {},
   "source": [
    "#### *Activity:  Figure out how many unique permutations there are of  unique letters in your name\n",
    "\n"
   ]
  },
  {
   "cell_type": "code",
   "execution_count": 55,
   "metadata": {},
   "outputs": [
    {
     "data": {
      "text/plain": [
       "40320"
      ]
     },
     "execution_count": 55,
     "metadata": {},
     "output_type": "execute_result"
    }
   ],
   "source": [
    "# Your answer here\n",
    "from math import factorial\n",
    "set('maximilian')\n",
    "factorial(len(set('ushamenta')))"
   ]
  },
  {
   "cell_type": "markdown",
   "metadata": {},
   "source": [
    "### Combinations\n",
    "\n",
    "\n",
    "You have seen that when you're working with permutations, the order matters. With combinations, however, this isn't the case: the order doesn't matter. Combinations refers to the number of ways a subset of a specified size can be drawn from a given set."
   ]
  },
  {
   "cell_type": "markdown",
   "metadata": {},
   "source": [
    "An example here is the following situation where you have your deck of cards, which consists of 52 cards. Three cards are going to be taken out of the deck. How many different ways can you choose these three cards?"
   ]
  },
  {
   "cell_type": "markdown",
   "metadata": {},
   "source": [
    "This means that if you want to figure out how many combinations you actually have, you just create all the permutations and divide by all the redundancies.\n",
    "\n",
    "$52C3 = \\frac{\\frac {52!}{(52-3)!}}{3!}$\n",
    "\n",
    "or \n",
    "\n",
    "$nCk = \\frac{nPk}{k!}$"
   ]
  },
  {
   "cell_type": "markdown",
   "metadata": {},
   "source": [
    "#### Activity How many unique combinations of five card hands comprised only of face cards exist?"
   ]
  },
  {
   "cell_type": "code",
   "execution_count": 56,
   "metadata": {},
   "outputs": [
    {
     "data": {
      "text/plain": [
       "4368.0"
      ]
     },
     "execution_count": 56,
     "metadata": {},
     "output_type": "execute_result"
    }
   ],
   "source": [
    "# Your answer here\n",
    "k=5\n",
    "n = 16\n",
    "\n",
    "factorial(16)/(factorial(16-5)*factorial(5))"
   ]
  },
  {
   "cell_type": "markdown",
   "metadata": {},
   "source": [
    "## Independent versus Dependent Events\n"
   ]
  },
  {
   "cell_type": "markdown",
   "metadata": {},
   "source": [
    "Events can be classified into two categories: dependent or independent.\n",
    "\n",
    "Independent events are events that don't impact the probability of the other event(s). Two events A and B are independent if knowing whether event A occurred gives no information about whether event B occurred.\n",
    "\n",
    "[Conditional Probability](http://setosa.io/conditional/)"
   ]
  },
  {
   "cell_type": "markdown",
   "metadata": {},
   "source": [
    "For example, draw an Ace from the deck, replace the card, shuffle the deck, and then drawing another card. The probability of drawing an Ace the first draw is the same as the second."
   ]
  },
  {
   "cell_type": "markdown",
   "metadata": {},
   "source": [
    "Dependent events, then, are events that have an impact on the probability of the other event(s).\n",
    "\n",
    "For example, you draw a card from the deck and then draw a second card from the deck without replacing the first card. In this case, the probability of drawing an Ace the fist draw is not the same as the probability of drawing an Ace on the second draw.\n",
    "\n"
   ]
  },
  {
   "cell_type": "markdown",
   "metadata": {},
   "source": [
    "Events A and B (which have nonzero probability) are independent if and only if one of the following equivalent statements holds:\n",
    "\n",
    "$P (A ∩ B) = P(A)P(B)$\n",
    "\n",
    "The probability of events A and B to occur equals the product of the probabilities of each event occurring.\n",
    "\n",
    "$P (A|B) = P(A)$\n",
    "\n",
    "The probability of event A to occur if an event B has already occurred is equal to the probability of an event A to occur.\n",
    "\n",
    "$P (B|A) = P(B)$\n",
    "\n",
    "The probability of an event B to occur if an event A has already occurred is the same as the probability of an event B to occur."
   ]
  },
  {
   "cell_type": "markdown",
   "metadata": {},
   "source": [
    "Let's consider the following example, where you already know the probability of drawing an Ace on the first draw. Now you need to determine the probability of drawing an Ace on the second draw, if the first card drawn was either a King or an Ace:"
   ]
  },
  {
   "cell_type": "code",
   "execution_count": 59,
   "metadata": {},
   "outputs": [
    {
     "data": {
      "text/plain": [
       "0.004524886877828055"
      ]
     },
     "execution_count": 59,
     "metadata": {},
     "output_type": "execute_result"
    }
   ],
   "source": [
    "# Sample Space\n",
    "sample_space = 52\n",
    "\n",
    "\n",
    "# Determine the probability of drawing an Ace after drawing a King on the first draw\n",
    "ace = (4/52) \n",
    "king_on_second = (4/51)\n",
    "ace*king_on_second\n",
    "# Determine the probability of drawing an Ace after drawing an Ace on the first draw\n",
    "ace_first = 4/52\n",
    "ace_second = 3/51\n",
    "ace_first*ace_second\n",
    "\n",
    "# Print each probability\n"
   ]
  },
  {
   "cell_type": "markdown",
   "metadata": {},
   "source": [
    "## Multiple Events\n",
    "\n",
    "\n",
    "An example of multiple events is the question \"what is the probability of eating three oatmeal cookies followed by a chocolate chip cookie when you eat four cookies out of a cookie jar filled with these two types of cookies?\" Eating four cookies is actually four events.\n",
    "\n",
    "To calculate the probability for multiple events, you basically determine the number of events (4 in this case), you then determine the probability for each event occurring separately and you multiply all of these probabilities to get your final answer. In the example that was described above, this would be 0.5 x 0.5 x 0.5 x 0.5 or 0.0625.\n",
    "\n",
    "$P(Event A \\cap Event B)=P(Event A) \\times P(Event B)$"
   ]
  },
  {
   "cell_type": "markdown",
   "metadata": {},
   "source": [
    "For your deck of playing cards, you could ask yourself the question \"What is the probability of getting three Hearts when choosing **without replacement?**\". When you sample or choose without replacement, it means that you choose a card but do not put it back, so that your final selection cannot include that same card. In this case, your probability calculation will be the following:\n",
    "\n",
    "13/52 x 12/51 x 11/50."
   ]
  },
  {
   "cell_type": "markdown",
   "metadata": {},
   "source": [
    "## Mutually Exclusive Events\n",
    "When you're working with multiple events, you might also have events that are mutually exclusive or disjoint: they cannot both occur. In such cases, you might want to calculate the probability (or the union) of any of multiple mutually exclusive events occurring. In such cases, you don't multiply probabilities, but you simply add together the probability of each event occurring:\n",
    "\n",
    "$P(Event A \\cup Event B) = P(Event A) + P(Event B)$\n",
    "\n"
   ]
  },
  {
   "cell_type": "markdown",
   "metadata": {},
   "source": [
    "To determine the probability of drawing a heart or drawing a club, add the probability of drawing a heart to the probability of drawing a club.\n",
    "\n",
    "$P(Heart \\cup Club) = (\\frac{13}{52}) + (\\frac{13}{52}) $ "
   ]
  },
  {
   "cell_type": "markdown",
   "metadata": {},
   "source": [
    "Now it's time for you to determine the probability of the following mutually exclusive events:\n",
    "\n",
    "1. Drawing a heart or drawing a club.\n",
    "2. Drawing an ace, a king or a queen."
   ]
  },
  {
   "cell_type": "code",
   "execution_count": 61,
   "metadata": {},
   "outputs": [
    {
     "data": {
      "text/plain": [
       "0.23076923076923078"
      ]
     },
     "execution_count": 61,
     "metadata": {},
     "output_type": "execute_result"
    }
   ],
   "source": [
    "# Calculate the probability of drawing a heart or a club\n",
    "hearts = 13\n",
    "clubs = 13\n",
    "13/15 + 13/52\n",
    "\n",
    "# Calculate the probability of drawing an ace, king, or a queen\n",
    "12/52"
   ]
  },
  {
   "cell_type": "markdown",
   "metadata": {},
   "source": [
    "## Non-Mutually Exclusive Events\n",
    "You can imagine that not all events are mutually exclusive: Drawing a heart or drawing an ace are two non-mutually exclusive events. The ace of hearts is both an ace and a heart. When events are not mutually exclusive, you must correct for the overlap.\n",
    "\n",
    "$P(Event A \\cup Event B) = P(Event A) + P(Event B) - P(EventA \\cup EventB)$"
   ]
  },
  {
   "cell_type": "markdown",
   "metadata": {},
   "source": [
    "To calculate the probability of drawing a heart or an ace, add the probability of drawing a heart to the probability of drawing an ace and then subtract the probability of drawing the ace of hearts.\n",
    "\n",
    "$P(Heart \\cup Ace) = (\\frac{13}{52}) + (\\frac{4}{52}) - (\\frac{1}{52})$"
   ]
  },
  {
   "cell_type": "markdown",
   "metadata": {},
   "source": [
    "Calculate the probability of the following non mutually exclusive events:\n",
    "\n",
    "1. Drawing a heart or an ace.\n",
    "2. Drawing a red card or drawing a face card."
   ]
  },
  {
   "cell_type": "code",
   "execution_count": 63,
   "metadata": {},
   "outputs": [
    {
     "data": {
      "text/plain": [
       "0.6538461538461539"
      ]
     },
     "execution_count": 63,
     "metadata": {},
     "output_type": "execute_result"
    }
   ],
   "source": [
    "# your code here\n",
    "13/52 + 4/52 - 1/52\n",
    "\n",
    "26/52 + 16/52 - 8/52"
   ]
  },
  {
   "cell_type": "markdown",
   "metadata": {},
   "source": [
    "## Intersection of Independent Events\n",
    "The probability of the intersection of two independent events is determined by multiplying the probabilities of each event occurring.\n",
    "\n",
    "$P(Event A \\cap Event B) = P(Event A) \\times P(Event B)$"
   ]
  },
  {
   "cell_type": "markdown",
   "metadata": {},
   "source": [
    "If you want to know the probability of drawing an Ace from a deck of cards, replacing it, reshuffling the deck, and drawing another Ace, you multiply the probability of drawing and Ace times the probability of drawing an Ace.\n",
    "\n",
    "$P(Ace \\cap Ace) = (\\frac{4}{52}) \\times (\\frac{4}{52})$"
   ]
  },
  {
   "cell_type": "code",
   "execution_count": 64,
   "metadata": {},
   "outputs": [
    {
     "data": {
      "text/plain": [
       "0.004524886877828055"
      ]
     },
     "execution_count": 64,
     "metadata": {},
     "output_type": "execute_result"
    }
   ],
   "source": [
    "# Sample Space\n",
    "\n",
    "# Outcomes\n",
    "\n",
    "# Probability of one ace\n",
    "\n",
    "\n",
    "# Probability of two consecutive independant aces \n",
    "4/52*4/52\n",
    "\n"
   ]
  },
  {
   "cell_type": "markdown",
   "metadata": {},
   "source": [
    "## Intersection of Dependent Events\n",
    "The probability of the intersection of two non independent events (Event A & Event B given A) is determined by multiplying the probability of Event A occurring times the probability of Event B given A.\n",
    "\n",
    "\n",
    "$P(Event A \\cap Event B | A) = P(Event A) \\times P(Event B | A)$"
   ]
  },
  {
   "cell_type": "markdown",
   "metadata": {},
   "source": [
    "### Exercise"
   ]
  },
  {
   "cell_type": "markdown",
   "metadata": {},
   "source": [
    "The best starting hand you can have in Texas Hold’em is pocket Aces. If you're sitting at a table with three other players, what is the probability of being dealt two Aces?"
   ]
  },
  {
   "cell_type": "code",
   "execution_count": 65,
   "metadata": {},
   "outputs": [
    {
     "data": {
      "text/plain": [
       "0.004524886877828055"
      ]
     },
     "execution_count": 65,
     "metadata": {},
     "output_type": "execute_result"
    }
   ],
   "source": [
    "4/52 *3/51\n"
   ]
  },
  {
   "cell_type": "markdown",
   "metadata": {},
   "source": [
    "Your hand:\n",
    "<img src=\"images/yourhand.png\">\n",
    "\n",
    "Community Cards:\n",
    "    \n",
    "<img src=\"images/community.png\">"
   ]
  },
  {
   "cell_type": "markdown",
   "metadata": {},
   "source": [
    "How can you determine the probability of getting a Flush by the River?"
   ]
  },
  {
   "cell_type": "code",
   "execution_count": 66,
   "metadata": {},
   "outputs": [
    {
     "data": {
      "text/plain": [
       "0.3871415356151712"
      ]
     },
     "execution_count": 66,
     "metadata": {},
     "output_type": "execute_result"
    }
   ],
   "source": [
    "9/47 + 9/46"
   ]
  },
  {
   "cell_type": "code",
   "execution_count": null,
   "metadata": {},
   "outputs": [],
   "source": []
  }
 ],
 "metadata": {
  "kernelspec": {
   "display_name": "Python 3",
   "language": "python",
   "name": "python3"
  },
  "language_info": {
   "codemirror_mode": {
    "name": "ipython",
    "version": 3
   },
   "file_extension": ".py",
   "mimetype": "text/x-python",
   "name": "python",
   "nbconvert_exporter": "python",
   "pygments_lexer": "ipython3",
   "version": "3.7.3"
  }
 },
 "nbformat": 4,
 "nbformat_minor": 4
}
